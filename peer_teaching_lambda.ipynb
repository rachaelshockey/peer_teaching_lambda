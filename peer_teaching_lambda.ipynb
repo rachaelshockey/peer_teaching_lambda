{
 "cells": [
  {
   "cell_type": "markdown",
   "metadata": {},
   "source": [
    "**`lambda`** functions are handy to use in cases where you need a one-off function, one that you are not likely to need again, like a particular conversion for one type of data. \n",
    "\n",
    "Below is a list of July temperatures represented in Fahrenheit. "
   ]
  },
  {
   "cell_type": "code",
   "execution_count": null,
   "metadata": {},
   "outputs": [],
   "source": [
    "july_temps = [92, 84, 87, 90, 80, 80, 76, 85]"
   ]
  },
  {
   "cell_type": "markdown",
   "metadata": {},
   "source": [
    "We can create a Python function using the typical **`def()`** syntax to convert each temperature in this list to Celsius..."
   ]
  },
  {
   "cell_type": "code",
   "execution_count": 58,
   "metadata": {},
   "outputs": [
    {
     "name": "stdout",
     "output_type": "stream",
     "text": [
      "33\n",
      "29\n",
      "31\n",
      "32\n",
      "27\n",
      "27\n",
      "24\n",
      "29\n"
     ]
    }
   ],
   "source": [
    "# converting fahrenheit temperatures to celsius using a regular, named function\n",
    "def f_to_c(temps_list):\n",
    "    \"\"\"takes in a list of temperatures represented in degrees Fahrenheit and converts each to Celsius\"\"\"\n",
    "    # use a for loop to iterate over a list of temperatures\n",
    "    for temp in temps_list:\n",
    "    # run the conversion formula on each temp in the list and round the new celsius temp number\n",
    "        celsius_temp = round((temp - 32) * 5/9)\n",
    "        # print the converted list\n",
    "        print(celsius_temp)\n",
    "\n",
    "f_to_c(july_temps)"
   ]
  },
  {
   "cell_type": "markdown",
   "metadata": {},
   "source": [
    "...or, we can convert and print these temperatures on a single line of code using **`lambda`** and the built-in function **`map`**. The **`map`** function takes 2 arguments: \n",
    "\n",
    "1) a function (the change you want to make to individual items in an iterable object)  \n",
    "2) the iterable object \n",
    "\n",
    "We need to set a lambda function (the Fahrenheit-to-Celsius conversion formula) as the first argument, and the original list as the second argument. "
   ]
  },
  {
   "cell_type": "code",
   "execution_count": 57,
   "metadata": {},
   "outputs": [
    {
     "name": "stdout",
     "output_type": "stream",
     "text": [
      "[33, 29, 31, 32, 27, 27, 24, 29]\n"
     ]
    }
   ],
   "source": [
    "# converting the same list of temperatures to celsius on one line of code using \n",
    "\n",
    "print(list(map(lambda x: round((x - 32) * 5/9), july_temps)))"
   ]
  },
  {
   "cell_type": "markdown",
   "metadata": {},
   "source": [
    "**`lambda`** can also be used with the built-in function **`filter`** to iterate over lists. This works the same way as **`map`** (takes the same 2 arguments). \n",
    "\n",
    "Here, the lambda function filters out all items in the list where the temperature was less than 85 degrees Fahrenheit. "
   ]
  },
  {
   "cell_type": "code",
   "execution_count": 60,
   "metadata": {},
   "outputs": [
    {
     "name": "stdout",
     "output_type": "stream",
     "text": [
      "[92, 87, 90]\n"
     ]
    }
   ],
   "source": [
    "# use lambda to search for all temperatures in the list that are greater than 85 degrees Fahrenheit and use filter to \n",
    "# remove all items that do not meet this criteria\n",
    "\n",
    "print(list(filter(lambda x: x > 85, july_temps)))"
   ]
  },
  {
   "cell_type": "code",
   "execution_count": null,
   "metadata": {},
   "outputs": [],
   "source": [
    "# EXERCISE OPTION 1: For quick practice with lambda, take the below list of height measurements represented in inches \n",
    "# and write a lambda expression that converts the measurements to centimeters (1 inch = 2.54 cm).\n",
    "# Then, pair lambda with the filter function to filter out some of the height measurements based on a given condition.\n",
    "\n",
    "inches = [65, 73, 53, 48, 67, 70]"
   ]
  },
  {
   "cell_type": "markdown",
   "metadata": {},
   "source": [
    "Lambda can also help to iterate over string data for sorting. \n",
    "\n",
    "Below, **`lambda`** is used to index a list of first and last names by the second name that appears in each string--the last name--rather than the first name, which would be the default key for **`sort()`**. "
   ]
  },
  {
   "cell_type": "code",
   "execution_count": 40,
   "metadata": {},
   "outputs": [
    {
     "name": "stdout",
     "output_type": "stream",
     "text": [
      "['Bilbo Baggins', 'Frodo Baggins', 'Merry Brandybuck', 'Samwise Gamgee', 'Pippin Took']\n"
     ]
    }
   ],
   "source": [
    "hobbits = [\"Samwise Gamgee\", \"Bilbo Baggins\", \"Pippin Took\", \"Frodo Baggins\", \"Merry Brandybuck\"]\n",
    "hobbits.sort(key = lambda name: name.split()[-1])\n",
    "print(hobbits)"
   ]
  },
  {
   "cell_type": "code",
   "execution_count": 50,
   "metadata": {},
   "outputs": [],
   "source": [
    "# EXERCISE OPTION 2: Using the built-in max and min functions paired with a lambda function to find the longest and \n",
    "# shortest names in the hobbits list above. \n",
    "\n",
    "# NOTE: This will calculate based on alphabetical values assigned to each letter, NOT numeric length of each string\n",
    "# You will need to set the lambda function as the key for the max/min function.\n",
    "# You will also need to set all letters to lowercase to iterate over all elements. \n",
    "# See page 186 of the Deitel texbook for help or my separate .ipynb file in this git repo for the answer key. "
   ]
  },
  {
   "cell_type": "markdown",
   "metadata": {},
   "source": [
    "In a pandas dataframe, **`lambda`** can be called using **`df.apply()`** to apply a function to each value in a given column.\n",
    "\n",
    "Below is the practice dataframe we worked through in class last week. "
   ]
  },
  {
   "cell_type": "code",
   "execution_count": 15,
   "metadata": {},
   "outputs": [
    {
     "name": "stdout",
     "output_type": "stream",
     "text": [
      "      tot_recalls  severe_recalls\n",
      "1999           34            13.0\n",
      "2000           67            40.0\n",
      "2001           89            67.0\n",
      "2002          120             NaN\n",
      "2003           56            40.0\n"
     ]
    }
   ],
   "source": [
    "import numpy as np\n",
    "import pandas as pd\n",
    "\n",
    "# use a dictionary to represent \"columns\"/ series of data as the keys\n",
    "# and row data contained in a list-like structure as the values\n",
    "\n",
    "recalls = {\n",
    "            'tot_recalls':[34,67,89,120,56],\n",
    "            'severe_recalls':[13,40,67,None,40],\n",
    "            #'model':['focus', 'ranger', 'f-150', None, None]\n",
    "          }\n",
    "year_index = [1999, 2000, 2001, 2002, 2003]\n",
    "# send our data into the pandas dataframe constructor and get a simple table\n",
    "recall_df = pd.DataFrame(data=recalls, index=year_index)\n",
    "\n",
    "print(recall_df.head())"
   ]
  },
  {
   "cell_type": "markdown",
   "metadata": {},
   "source": [
    "If for some reason we wanted to apply the same formula to each value in one or more columns of that dataframe, we could write a lambda function paired with .apply() to do so. Say you received new information that the old recall data was incorrect and of the total recall values were actually doubled (not likely, but this will help to clearly demo how lambda can work on a dataframe)..."
   ]
  },
  {
   "cell_type": "code",
   "execution_count": 19,
   "metadata": {},
   "outputs": [
    {
     "name": "stdout",
     "output_type": "stream",
     "text": [
      "      tot_recalls  severe_recalls  new_recalls\n",
      "1999           34            13.0         68.0\n",
      "2000           67            40.0        134.0\n",
      "2001           89            67.0        178.0\n",
      "2002          120             NaN        240.0\n",
      "2003           56            40.0        112.0\n"
     ]
    }
   ],
   "source": [
    "recall_df['new_recalls'] = recall_df.apply(lambda x: x['tot_recalls'] * 2, axis=1)\n",
    "\n",
    "print(recall_df.head())"
   ]
  },
  {
   "cell_type": "markdown",
   "metadata": {},
   "source": [
    "The above line of code adds a new column to the dataframe, where all of the new columns values = the total recall recorded in that row x 2. \n",
    "\n",
    "Below is a more useful example of applying a lambda function to a dataframe. "
   ]
  },
  {
   "cell_type": "code",
   "execution_count": 2,
   "metadata": {},
   "outputs": [],
   "source": [
    "import pandas as pd\n",
    "from matplotlib import pyplot as plt\n",
    "\n",
    "\n",
    "def get_df():\n",
    "    \"\"\"reads in a csv file from data.wprdc.org, cleans it up, and stores it to a \n",
    "    pandas dataframe\"\"\"\n",
    "    election_data = pd.read_csv(\n",
    "    \"https://data.wprdc.org/datastore/dump/988b8b2a-4fce-45bc-aba6-438ca78e92f1\", \n",
    "    index_col = False)\n",
    "    # read in the csv via URL to get the most current version for analysis \n",
    "    # (source: p. 346 of Deitel textbook)\n",
    "    election_df = (election_data[['contest_name', 'choice_name', 'party_name',\n",
    "                                    'total_votes', 'percent_of_votes', 'registered_voters']])\n",
    "    # create dataframe with just the six columns needed for this analysis\n",
    "    \n",
    "    return election_df"
   ]
  },
  {
   "cell_type": "code",
   "execution_count": 3,
   "metadata": {},
   "outputs": [
    {
     "name": "stdout",
     "output_type": "stream",
     "text": [
      "                         contest_name                           choice_name  \\\n",
      "0  Presidential Electors (Vote For 1)  DEM Joseph R. Biden/Kamala D. Harris   \n",
      "1  Presidential Electors (Vote For 1)     REP Donald J. Trump/Mike R. Pence   \n",
      "2  Presidential Electors (Vote For 1)   LIB Jo Jorgensen/Jeremy Spike Cohen   \n",
      "3  Presidential Electors (Vote For 1)                              Write-in   \n",
      "4       Attorney General (Vote For 1)                      DEM Josh Shapiro   \n",
      "\n",
      "  party_name  total_votes  percent_of_votes  registered_voters  \n",
      "0        DEM       430759             59.43             942851  \n",
      "1        REP       282913             39.03             942851  \n",
      "2        LIB         8361              1.15             942851  \n",
      "3        NON         2767              0.38             942851  \n",
      "4        DEM       443166             62.18             942851  \n"
     ]
    }
   ],
   "source": [
    "df = get_df()\n",
    "print(df.head())"
   ]
  },
  {
   "cell_type": "markdown",
   "metadata": {},
   "source": [
    "The dataframe above (imported from a dataset available via the Western PA Regional Data Center) include the total votes for each candidate in the 2020 general election, the percentage of votes each received, and the total registered voters for each geographic voting area. "
   ]
  },
  {
   "cell_type": "code",
   "execution_count": 61,
   "metadata": {},
   "outputs": [],
   "source": [
    "# EXERCISE OPTION 3: Using the .apply() function on a pandas dataframe, add a new column to the dataframe that \n",
    "# calculates the total votes for each 2020 presidential candidate as a percentage of all registered voters in \n",
    "# Allegheny County (total_votes / 942851)\n",
    "\n",
    "# Rerun print(df.head())) to make sure it worked! "
   ]
  }
 ],
 "metadata": {
  "kernelspec": {
   "display_name": "Python 3",
   "language": "python",
   "name": "python3"
  },
  "language_info": {
   "codemirror_mode": {
    "name": "ipython",
    "version": 3
   },
   "file_extension": ".py",
   "mimetype": "text/x-python",
   "name": "python",
   "nbconvert_exporter": "python",
   "pygments_lexer": "ipython3",
   "version": "3.8.3"
  }
 },
 "nbformat": 4,
 "nbformat_minor": 4
}
