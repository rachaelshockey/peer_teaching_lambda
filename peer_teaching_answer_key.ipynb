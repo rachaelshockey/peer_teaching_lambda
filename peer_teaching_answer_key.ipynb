{
 "cells": [
  {
   "cell_type": "code",
   "execution_count": 12,
   "metadata": {},
   "outputs": [],
   "source": [
    "# EXERCISE OPTION 1: For quick practice with lambda, take the below list of height measurements represented in inches \n",
    "# and write a lambda expression that converts the measurements to centimeters (1 inch = 2.54 cm).\n",
    "# Then, pair lambda with the filter function to filter out some of the height measurements based on a given condition."
   ]
  },
  {
   "cell_type": "code",
   "execution_count": 4,
   "metadata": {},
   "outputs": [
    {
     "name": "stdout",
     "output_type": "stream",
     "text": [
      "[165.1, 185.42000000000002, 134.62, 121.92, 170.18, 177.8]\n",
      "[165.1, 185.42000000000002, 170.18, 177.8]\n"
     ]
    }
   ],
   "source": [
    "inches = [65, 73, 53, 48, 67, 70]\n",
    "\n",
    "print(list(map(lambda x: x * 2.54, inches)))\n",
    "# map metric system calculated to all items in the inches list\n",
    "\n",
    "cm_list = list(map(lambda x: x * 2.54, inches))\n",
    "# store the calculation above to a new list\n",
    "\n",
    "print(list(filter(lambda x: x > 150, cm_list)))\n",
    "# filter out all items in the metric list where the value < 150"
   ]
  },
  {
   "cell_type": "code",
   "execution_count": null,
   "metadata": {},
   "outputs": [],
   "source": [
    "# Exercise option 2: Using the built-in max and min functions paired with a lambda function to find the longest and \n",
    "# shortest names in the hobbits list above. \n",
    "# NOTE: This will calculate based on alphabetical values assigned to each letter, NOT numeric length of each string\n",
    "# You will need to set the lambda function as the key for the max/min function.\n",
    "# You will also need to set all letters to lowercase to iterate over all elements."
   ]
  },
  {
   "cell_type": "code",
   "execution_count": 9,
   "metadata": {},
   "outputs": [
    {
     "name": "stdout",
     "output_type": "stream",
     "text": [
      "Samwise Gamgee\n",
      "Bilbo Baggins\n"
     ]
    }
   ],
   "source": [
    "hobbits = [\"Samwise Gamgee\", \"Bilbo Baggins\", \"Pippin Took\", \"Frodo Baggins\", \"Merry Brandybuck\"]\n",
    "\n",
    "print(max(hobbits, key = lambda h: h.lower()))\n",
    "# iterate over the items in a list with the max function to search for and print the item with the max value (alphabetical)\n",
    "\n",
    "print(min(hobbits, key = lambda b: b.lower()))"
   ]
  },
  {
   "cell_type": "code",
   "execution_count": null,
   "metadata": {},
   "outputs": [],
   "source": [
    "# Exercise option 3: Using the .apply() function on a pandas dataframe, add a new column to the dataframe that calculates \n",
    "# the total votes for each 2020 presidential candidate as a percentage of all registered voters in Allegheny County\n",
    "# (total_votes / 942851)\n",
    "\n",
    "# Rerun print(df.head())) to make sure it worked! "
   ]
  },
  {
   "cell_type": "code",
   "execution_count": 5,
   "metadata": {},
   "outputs": [],
   "source": [
    "import pandas as pd\n",
    "from matplotlib import pyplot as plt\n",
    "\n",
    "def get_df():\n",
    "    \"\"\"reads in a csv file from data.wprdc.org, cleans it up, and stores it to a \n",
    "    pandas dataframe\"\"\"\n",
    "    election_data = pd.read_csv(\n",
    "    \"https://data.wprdc.org/datastore/dump/988b8b2a-4fce-45bc-aba6-438ca78e92f1\", \n",
    "    index_col = False)\n",
    "    # read in the csv via URL to get the most current version for analysis \n",
    "    # (source: p. 346 of Deitel textbook)\n",
    "    election_df = (election_data[['contest_name', 'choice_name', 'party_name',\n",
    "                                    'total_votes', 'percent_of_votes', 'registered_voters']])\n",
    "    # create dataframe with just the six columns needed for this analysis\n",
    "    \n",
    "    return election_df"
   ]
  },
  {
   "cell_type": "code",
   "execution_count": 10,
   "metadata": {},
   "outputs": [],
   "source": [
    "df = get_df()\n",
    "df['percent_of_voters'] = df.apply(lambda x: x['total_votes'] / 942851, axis=1)"
   ]
  },
  {
   "cell_type": "code",
   "execution_count": 11,
   "metadata": {},
   "outputs": [
    {
     "name": "stdout",
     "output_type": "stream",
     "text": [
      "                         contest_name                           choice_name  \\\n",
      "0  Presidential Electors (Vote For 1)  DEM Joseph R. Biden/Kamala D. Harris   \n",
      "1  Presidential Electors (Vote For 1)     REP Donald J. Trump/Mike R. Pence   \n",
      "2  Presidential Electors (Vote For 1)   LIB Jo Jorgensen/Jeremy Spike Cohen   \n",
      "3  Presidential Electors (Vote For 1)                              Write-in   \n",
      "4       Attorney General (Vote For 1)                      DEM Josh Shapiro   \n",
      "\n",
      "  party_name  total_votes  percent_of_votes  registered_voters  \\\n",
      "0        DEM       430759             59.43             942851   \n",
      "1        REP       282913             39.03             942851   \n",
      "2        LIB         8361              1.15             942851   \n",
      "3        NON         2767              0.38             942851   \n",
      "4        DEM       443166             62.18             942851   \n",
      "\n",
      "   percent_of_voters  \n",
      "0           0.456869  \n",
      "1           0.300061  \n",
      "2           0.008868  \n",
      "3           0.002935  \n",
      "4           0.470028  \n"
     ]
    }
   ],
   "source": [
    "print(df.head())"
   ]
  }
 ],
 "metadata": {
  "kernelspec": {
   "display_name": "Python 3",
   "language": "python",
   "name": "python3"
  },
  "language_info": {
   "codemirror_mode": {
    "name": "ipython",
    "version": 3
   },
   "file_extension": ".py",
   "mimetype": "text/x-python",
   "name": "python",
   "nbconvert_exporter": "python",
   "pygments_lexer": "ipython3",
   "version": "3.8.3"
  }
 },
 "nbformat": 4,
 "nbformat_minor": 4
}
